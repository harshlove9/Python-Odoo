{
 "cells": [
  {
   "cell_type": "markdown",
   "metadata": {},
   "source": [
    "# Conditional Statements.\n",
    "\n",
    "1) If n is odd, print Weird\n",
    "\n",
    "2) If n is even and in the inclusive range of 1 to 6, print Not Weird\n",
    "\n",
    "3) If n is even and in the inclusive range of 12 to 18, print Weird\n",
    "\n",
    "4) If n is even and greater than 20, print Not Weird"
   ]
  },
  {
   "cell_type": "code",
   "execution_count": 2,
   "metadata": {},
   "outputs": [
    {
     "name": "stdout",
     "output_type": "stream",
     "text": [
      "enter number n:24\n",
      "Not Wired\n"
     ]
    }
   ],
   "source": [
    "n=int(input('enter number n:'))\n",
    "if n % 2 != 0:\n",
    "    print(\"Weird\")\n",
    "else:\n",
    "    if n % 2 == 0 and 1<= n <= 6:\n",
    "        print(\"Not Weird\")\n",
    "    elif n % 2 == 0 and 12 <= n <= 18:\n",
    "         print(\"Weird\")\n",
    "    else:\n",
    "        print('Not Wired')"
   ]
  },
  {
   "cell_type": "markdown",
   "metadata": {},
   "source": [
    "# Loops.\n",
    "\n",
    "1) Read an integer N. For all non-negative integers i < N, print i^2."
   ]
  },
  {
   "cell_type": "code",
   "execution_count": 5,
   "metadata": {},
   "outputs": [
    {
     "name": "stdout",
     "output_type": "stream",
     "text": [
      "enter n:2\n",
      "0\n",
      "1\n"
     ]
    }
   ],
   "source": [
    "n=int(input('enter n:'))\n",
    "for i in range(n):\n",
    "     if i < n:\n",
    "        print(i**2)"
   ]
  }
 ],
 "metadata": {
  "kernelspec": {
   "display_name": "Python 3",
   "language": "python",
   "name": "python3"
  },
  "language_info": {
   "codemirror_mode": {
    "name": "ipython",
    "version": 3
   },
   "file_extension": ".py",
   "mimetype": "text/x-python",
   "name": "python",
   "nbconvert_exporter": "python",
   "pygments_lexer": "ipython3",
   "version": "3.7.7"
  }
 },
 "nbformat": 4,
 "nbformat_minor": 4
}

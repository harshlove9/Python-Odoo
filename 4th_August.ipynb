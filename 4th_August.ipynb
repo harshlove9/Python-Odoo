{
 "cells": [
  {
   "cell_type": "code",
   "execution_count": null,
   "metadata": {},
   "outputs": [],
   "source": [
    "b={'apple':10, 'kiwi':20, 'mango':22, 'grapes':40, 'chiku': 18}\n",
    "print(b.keys())\n",
    "print(b.values())\n",
    "n=0\n",
    "for s in sorted():\n",
    "    print(s,\":\",b[s])\n",
    "    \n",
    "    def gather():\n",
    "    global apple\n",
    "    global kiwi \n",
    "    global mango \n",
    "    global grapes\n",
    "    global chiku\n",
    "    if (b == [0, 6]):\n",
    "        if ((apple + kiwi + mango + grapes + chiku) >200):\n",
    "            from random import randint\n",
    "              x = randint(1, 50)\n",
    "                if (x == 10):\n",
    "                print(\"To buy apple press 0.\")\n",
    "                apple += 1\n",
    "                elif (x == 20):\n",
    "                print(\"To buy kiwi press 1.\")\n",
    "                kiwi += 1\n",
    "                elif (x == 22):\n",
    "                print(\"To buy mango press 2.\")\n",
    "                mango += 1\n",
    "            elif (x == 40):\n",
    "                print(\"To buy grapes press 3\")\n",
    "                grapes += 1\n",
    "            elif (x == 18):\n",
    "                print(\"To buy chiku press 4 \")\n",
    "                chiku += 1\n",
    "        else:\n",
    "            print(\"Enter to continue or q to quit\")\n",
    "             break:\n",
    "                  \n",
    "        else:\n",
    "        print('sorry you dont want to buy')\n",
    "                  \n",
    "print(\"which product you want to buy:\")\n",
    "print('how many qty:')"
   ]
  }
 ],
 "metadata": {
  "kernelspec": {
   "display_name": "Python 3",
   "language": "python",
   "name": "python3"
  },
  "language_info": {
   "codemirror_mode": {
    "name": "ipython",
    "version": 3
   },
   "file_extension": ".py",
   "mimetype": "text/x-python",
   "name": "python",
   "nbconvert_exporter": "python",
   "pygments_lexer": "ipython3",
   "version": "3.7.7"
  }
 },
 "nbformat": 4,
 "nbformat_minor": 4
}

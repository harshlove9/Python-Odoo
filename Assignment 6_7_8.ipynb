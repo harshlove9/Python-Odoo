{
 "cells": [
  {
   "cell_type": "markdown",
   "metadata": {},
   "source": [
    "# Assignment:6"
   ]
  },
  {
   "cell_type": "markdown",
   "metadata": {},
   "source": [
    "# Q1:On user input create dict, \n",
    "Enter number : 5\n",
    "\n",
    "result : \n",
    "\n",
    "dict_1 = {1 : 1, 2 : 4, 3 : 9, 4 : 25, 5 : 25}\n",
    "\n",
    "dict_2 = {1 : 1, 2 : 8, 3 : 27, 4 : 64, 5 : 125}"
   ]
  },
  {
   "cell_type": "code",
   "execution_count": 2,
   "metadata": {},
   "outputs": [
    {
     "name": "stdout",
     "output_type": "stream",
     "text": [
      "Enter number5\n",
      "dict_1 = {1: 1, 2: 4, 3: 9, 4: 16, 5: 25}\n",
      "dict_2= {1: 1, 2: 8, 3: 27, 4: 64, 5: 125}\n"
     ]
    }
   ],
   "source": [
    "n=int(input(\"Enter number\"))\n",
    "i={i:i**2 for i in range(1,n+1)}\n",
    "j={j:j**3 for j in range(1,n+1)}\n",
    "print('dict_1 =',i)\n",
    "print('dict_2=',j)"
   ]
  },
  {
   "cell_type": "markdown",
   "metadata": {},
   "source": [
    "# Q2:display all combinations of letters,\n",
    "\n",
    "dict_1 = {'1':['a','b'], '2':['c','d']}\n",
    "\n",
    "output:\n",
    "ac\n",
    "\n",
    "\n",
    "ad\n",
    "\n",
    "bc\n",
    "\n",
    "bd"
   ]
  },
  {
   "cell_type": "code",
   "execution_count": 31,
   "metadata": {},
   "outputs": [
    {
     "name": "stdout",
     "output_type": "stream",
     "text": [
      "ac\n",
      "ad\n",
      "bc\n",
      "bd\n"
     ]
    }
   ],
   "source": [
    "import itertools      \n",
    "d ={'1':['a','b'], '2':['c','d']}\n",
    "for combo in itertools.product(*[d[k] for k in sorted(d.keys())]):\n",
    "    print(''.join(combo))"
   ]
  },
  {
   "cell_type": "markdown",
   "metadata": {},
   "source": [
    "# Q3:Display the sum of fifth and sixth value of each key from the dictionary.\n",
    "\n",
    "dict_1 = {\n",
    "\n",
    "'x': [11, 12, 13, 14, 15, 16, 17, 18, 19],\n",
    "\n",
    "'y': [21, 22, 23, 24, 25, 26, 27, 28, 29],\n",
    "\n",
    "'z': [31, 32, 33, 34, 35, 36, 37, 38, 39]\n",
    "}\n",
    "\n",
    "Output :\n",
    "\n",
    "15\n",
    "\n",
    "25\n",
    "\n",
    "35"
   ]
  },
  {
   "cell_type": "code",
   "execution_count": 34,
   "metadata": {},
   "outputs": [
    {
     "name": "stdout",
     "output_type": "stream",
     "text": [
      "15\n",
      "25\n",
      "35\n"
     ]
    }
   ],
   "source": [
    "dict_1 = dict(x=list(range(11, 20)), y=list(range(21, 30)), z=list(range(31, 40)))\n",
    "print(dict_1[\"x\"][4])\n",
    "print(dict_1[\"y\"][4])\n",
    "print(dict_1[\"z\"][4])\n"
   ]
  },
  {
   "cell_type": "markdown",
   "metadata": {},
   "source": [
    "# Assignment 7"
   ]
  },
  {
   "cell_type": "markdown",
   "metadata": {},
   "source": [
    "# Q1: Sample : test_dict = {'gfg' : {'rate' : 5, 'remark' : 'good'}, 'cs' : {'rate' : 3}} \n",
    "Output:\n",
    "\n",
    "gfg\n",
    "remark : good\n",
    "rate : 5\n",
    "cs\n",
    "rate : 3"
   ]
  },
  {
   "cell_type": "code",
   "execution_count": 38,
   "metadata": {},
   "outputs": [
    {
     "name": "stdout",
     "output_type": "stream",
     "text": [
      "The original dictionary is : {'gfg': {'rate': 5, 'remark': 'good'}, 'cs': {'rate': 3}}\n",
      "The output is : \n",
      "gfg\n",
      "rate : 5\n",
      "remark : good\n",
      "cs\n",
      "rate : 3\n"
     ]
    }
   ],
   "source": [
    " \n",
    "test_dict = {'gfg' : {'rate' : 5, 'remark' : 'good'}, 'cs' : {'rate' : 3}} \n",
    "\n",
    "\n",
    "print(\"The original dictionary is : \" + str(test_dict)) \n",
    "\n",
    "print(\"The Pretty Print dictionary is : \") \n",
    "\n",
    "for i in test_dict: \n",
    "    print (i) \n",
    "    for j in test_dict[i]: \n",
    "    print (j, ':', test_dict[i][]) \n"
   ]
  },
  {
   "cell_type": "markdown",
   "metadata": {},
   "source": [
    "# Q2:Convert string dictionary to dictionary\n",
    "\n",
    "Sample : '{\"Nikhil\" : 1, \"Akshat\" : 2, \"Akash\" : 3}'  (type string)\n",
    "\n",
    "output : {'Nikhil': 1, 'Akshat': 2, 'Akash': 3} (type dict) "
   ]
  },
  {
   "cell_type": "markdown",
   "metadata": {},
   "source": [
    "Data send and get generally in a string of dictionary(JSON objects) forms in many web API’s to use that data to extract meaningful information we need to convert that data in dictionary form and use for further operations."
   ]
  },
  {
   "cell_type": "code",
   "execution_count": 40,
   "metadata": {},
   "outputs": [
    {
     "name": "stdout",
     "output_type": "stream",
     "text": [
      "{\"nikhil\": 1, \"akash\": 5, \"manjeet\": 10, \"akshat\": 15}\n",
      "<class 'str'>\n",
      "{'nikhil': 1, 'akash': 5, 'manjeet': 10, 'akshat': 15}\n",
      "<class 'dict'>\n"
     ]
    }
   ],
   "source": [
    "import json\n",
    "in_put = {'nikhil': 1, 'akash' : 5, \n",
    "         'manjeet' : 10, 'akshat' : 15}\n",
    "\n",
    "# printing initial json \n",
    "in_put = json.dumps(in_put) \n",
    "print (in_put) \n",
    "print (type(in_put)) \n",
    "\n",
    "# converting string to json \n",
    "final_output = json.loads(in_put) \n",
    "\n",
    "# printing final result \n",
    "print (str(final_output)) \n",
    "print (type(final_output)) \n"
   ]
  },
  {
   "cell_type": "markdown",
   "metadata": {},
   "source": [
    "# Q3: Regular Dictionary vs Ordered Dictionary in Python\n",
    "Here key is 'a' letter and value is it's ascii value. (use collections library)\n"
   ]
  },
  {
   "cell_type": "code",
   "execution_count": 41,
   "metadata": {},
   "outputs": [
    {
     "name": "stdout",
     "output_type": "stream",
     "text": [
      "Regular dictionary:\n",
      "a 97\n",
      "b 98\n",
      "c 99\n",
      "d 100\n",
      "e 101\n",
      "f 102\n",
      "\n",
      "OrderedDict:\n",
      "a 97\n",
      "b 98\n",
      "c 99\n",
      "d 100\n",
      "e 101\n",
      "f 102\n"
     ]
    }
   ],
   "source": [
    "import collections \n",
    "   \n",
    "  \n",
    "# Creating a regular dictionary \n",
    "print('Regular dictionary:') \n",
    "d = {chr(k):k for k in range(ord('a'), ord('g'))} \n",
    "   \n",
    "for k, v in d.items(): \n",
    "    print(k, v) \n",
    "   \n",
    "# Creating an Ordered dictionary \n",
    "print('\\nOrderedDict:') \n",
    "d = collections.OrderedDict() \n",
    "[d.setdefault(chr(k), k) for k in range(ord('a'), ord('g'))] \n",
    "   \n",
    "for k, v in d.items(): \n",
    "    print(k, v) "
   ]
  },
  {
   "cell_type": "markdown",
   "metadata": {},
   "source": [
    "# Assignment 8:"
   ]
  },
  {
   "cell_type": "markdown",
   "metadata": {},
   "source": [
    "# 1) Find Vovel from given input\n",
    "\n",
    "Input : MATHEMATICS\n",
    "\n",
    "Output: ['A','E','A','I']"
   ]
  },
  {
   "cell_type": "code",
   "execution_count": 43,
   "metadata": {},
   "outputs": [
    {
     "name": "stdout",
     "output_type": "stream",
     "text": [
      "4\n",
      "['A', 'E', 'A', 'I']\n"
     ]
    }
   ],
   "source": [
    "def Check_Vow(string, vowels): \n",
    "    final = [each for each in string if each in vowels] \n",
    "    print(len(final)) \n",
    "    print(final) \n",
    "      \n",
    "\n",
    "string = \"MATHEMATICS\"\n",
    "vowels = \"'A','E','A','I\"\n",
    "Check_Vow(string, vowels); "
   ]
  },
  {
   "cell_type": "markdown",
   "metadata": {},
   "source": [
    " 2) convert to lower \n",
    "\n",
    "list_a = [\"Hello\", \"World\", \"In\", \"Python\"]\n",
    "\n",
    "output = ['hello', 'world', 'in', 'python']"
   ]
  },
  {
   "cell_type": "code",
   "execution_count": 45,
   "metadata": {},
   "outputs": [
    {
     "name": "stdout",
     "output_type": "stream",
     "text": [
      "['hello', 'world', 'in', 'python']\n"
     ]
    }
   ],
   "source": [
    " list_a=[i.lower() for i in [\"Hello\",\"World\",\"In\",\"Python\"]]\n",
    "print(list_a)\n",
    "\n"
   ]
  },
  {
   "cell_type": "markdown",
   "metadata": {},
   "source": [
    " 1)  Find not common numbers from two list \n",
    " \n",
    "list_a = [1, 2, 3, 4] \n",
    "\n",
    "list_b = [2, 3, 4, 5]\n",
    "\n"
   ]
  },
  {
   "cell_type": "code",
   "execution_count": 57,
   "metadata": {},
   "outputs": [],
   "source": [
    "list_one = [1,2,3,4]\n",
    "list_two = [2,3,4,5]\n",
    "one_not_two = [ x for x in list_one if x not in list_two ]\n",
    "two_not_one = [ x for x in list_two if x not in list_one ]"
   ]
  },
  {
   "cell_type": "markdown",
   "metadata": {},
   "source": [
    "Take user input upto which number they want square and cube of value"
   ]
  },
  {
   "cell_type": "code",
   "execution_count": 61,
   "metadata": {},
   "outputs": [
    {
     "name": "stdout",
     "output_type": "stream",
     "text": [
      "Enter number : 5\n",
      "[1, 4, 9, 16, 25]\n",
      "[1, 8, 27, 64, 125]\n"
     ]
    }
   ],
   "source": [
    "n=int(input(\"Enter number : \"))\n",
    "i=[i**2 for i in range(1,n+1)]\n",
    "j=[j**3 for j in range(1,n+1)]\n",
    "print(i)\n",
    "print(j)"
   ]
  }
 ],
 "metadata": {
  "kernelspec": {
   "display_name": "Python 3",
   "language": "python",
   "name": "python3"
  },
  "language_info": {
   "codemirror_mode": {
    "name": "ipython",
    "version": 3
   },
   "file_extension": ".py",
   "mimetype": "text/x-python",
   "name": "python",
   "nbconvert_exporter": "python",
   "pygments_lexer": "ipython3",
   "version": "3.7.7"
  }
 },
 "nbformat": 4,
 "nbformat_minor": 4
}

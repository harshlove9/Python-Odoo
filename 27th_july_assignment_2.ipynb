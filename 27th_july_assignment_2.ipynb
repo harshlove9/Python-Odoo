{
 "cells": [
  {
   "cell_type": "markdown",
   "metadata": {},
   "source": [
    "# Q:1. Ask the user for two numbers: one number to check (call it num) and one number to divide by (check). If check divides evenly into num, tell that to the user. If not, print a different appropriate message."
   ]
  },
  {
   "cell_type": "code",
   "execution_count": 1,
   "metadata": {},
   "outputs": [
    {
     "name": "stdout",
     "output_type": "stream",
     "text": [
      "Enter a number: 6\n",
      "Enter a number is divide by: 3\n",
      "Congoo...you are right\n"
     ]
    }
   ],
   "source": [
    "num = int(input(\"Enter a number: \"))\n",
    "check = int(input(\"Enter a number is divide by: \"))\n",
    "\n",
    "if num % check == 0:\n",
    "    print('Congoo...you are right')\n",
    "else:\n",
    "    print('oops...sry...better than next time')"
   ]
  },
  {
   "cell_type": "markdown",
   "metadata": {},
   "source": [
    "# Q:2.Take 10 integers from keyboard using loop and print their average value on the screen."
   ]
  },
  {
   "cell_type": "code",
   "execution_count": 4,
   "metadata": {},
   "outputs": [
    {
     "name": "stdout",
     "output_type": "stream",
     "text": [
      "avarge value is: 55\n"
     ]
    }
   ],
   "source": [
    "n = 10\n",
    "sum = 0\n",
    "for num in range(0, n+1, 1):\n",
    "    sum = sum+num\n",
    "print(\"avarge value is:\", sum )"
   ]
  },
  {
   "cell_type": "markdown",
   "metadata": {},
   "source": [
    "# Q3:Take integer inputs from user until he/she presses q ( Ask to press q to quit after every integer input ). Print average and product of all numbers."
   ]
  },
  {
   "cell_type": "code",
   "execution_count": 3,
   "metadata": {},
   "outputs": [
    {
     "name": "stdout",
     "output_type": "stream",
     "text": [
      "Enter the input\n",
      "10\n",
      "Enter to continue or q to quit\n",
      "Enter the input\n",
      "20\n",
      "Enter to continue or q to quit\n",
      "Enter the input\n",
      "30\n",
      "Enter to continue or q to quit\n",
      "Enter the input\n",
      "q\n",
      "You have chosen to quit\n",
      "total time the user entered the value is : 3 \n",
      "Average : 20\n",
      "product of all the number : 60\n"
     ]
    }
   ],
   "source": [
    "i=0\n",
    "a=100\n",
    "n=0\n",
    "while i <= a:\n",
    "    print('Enter the input')\n",
    "    user_input=str(input())\n",
    "    if user_input!='q':\n",
    "        n=n+int(user_input)\n",
    "        print('Enter to continue or q to quit')\n",
    "        i=i+1\n",
    "    else:\n",
    "        print('You have chosen to quit')\n",
    "        break\n",
    "avg=n/i\n",
    "print(\"total time the user entered the value is : %d \" %i)\n",
    "print(\"Average : %d\" %avg)\n",
    "print(\"product of all the number : %d\" %n)\n",
    "  "
   ]
  }
 ],
 "metadata": {
  "kernelspec": {
   "display_name": "Python 3",
   "language": "python",
   "name": "python3"
  },
  "language_info": {
   "codemirror_mode": {
    "name": "ipython",
    "version": 3
   },
   "file_extension": ".py",
   "mimetype": "text/x-python",
   "name": "python",
   "nbconvert_exporter": "python",
   "pygments_lexer": "ipython3",
   "version": "3.7.7"
  }
 },
 "nbformat": 4,
 "nbformat_minor": 4
}

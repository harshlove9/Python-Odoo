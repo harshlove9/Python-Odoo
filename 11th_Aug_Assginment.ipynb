{
 "cells": [
  {
   "cell_type": "code",
   "execution_count": 1,
   "metadata": {},
   "outputs": [],
   "source": [
    "import requests\n",
    "from bs4 import BeautifulSoup\n",
    "import smtplib\n",
    "import time"
   ]
  },
  {
   "cell_type": "code",
   "execution_count": 2,
   "metadata": {},
   "outputs": [],
   "source": [
    "URL='https://www.amazon.in/Sony-Full-Frame-Mirrorless-Interchangeable-Lens-F3-5-5-6/dp/B07B45D8WV/ref=sr_1_1?dchild=1&keywords=sony+a7&qid=1597137716&sr=8-1'\n",
    "\n",
    "headers={'User-Agent':'Mozilla/5.0 (Windows NT 10.0; Win64; x64) AppleWebKit/537.36 (KHTML, like Gecko) Chrome/84.0.4147.105 Safari/537.36'}\n",
    "\n",
    "\n",
    "\n",
    "\n"
   ]
  },
  {
   "cell_type": "code",
   "execution_count": null,
   "metadata": {},
   "outputs": [],
   "source": [
    "import requests\n",
    "from bs4 import BeautifulSoup\n",
    "import smtplib\n",
    "import time\n",
    "\n",
    "URL='https://www.amazon.in/Sony-Full-Frame-Mirrorless-Interchangeable-Lens-F3-5-5-6/dp/B07B45D8WV/ref=sr_1_1?dchild=1&keywords=sony+a7&qid=1597137716&sr=8-1'\n",
    "\n",
    "headers={'User-Agent':'Mozilla/5.0 (Windows NT 10.0; Win64; x64) AppleWebKit/537.36 (KHTML, like Gecko) Chrome/84.0.4147.105 Safari/537.36'}\n",
    "\n",
    "\n",
    "\n",
    "\n",
    "def check_price():\n",
    "    page=requests.get(URL, headers=headers)\n",
    "    \n",
    "    soup=BeautifulSoup(page.content, 'html.parser')\n",
    "    \n",
    "    title=soup.find(id='productTitle').get_text()\n",
    "    price=soup.find(id='priceblock_ourprice').get_text()\n",
    "    converted_price=float(price[0:5])\n",
    "    \n",
    "    if(converted_price < 1.700):\n",
    "        send_mail()\n",
    "        \n",
    "    if(converted_price > 1.700):\n",
    "        send_mail()\n",
    "    \n",
    "    \n",
    "    print(converted_price)\n",
    "    print(title.stip())\n",
    "    \n",
    "def send_mail():\n",
    "    server=smtplib.SMTP('smtp.gmail.com', 587)\n",
    "    server.ehlo()\n",
    "    server.starttls()\n",
    "    server.ehlo()\n",
    "    \n",
    "    server.login('herruosm@gmail.com','gwsgnhfrsegf')\n",
    "    \n",
    "    subject='Price Fell Down'\n",
    "    \n",
    "    body='check the amazon link https://www.amazon.in/Sony-Full-Frame-Mirrorless-Interchangeable-Lens-F3-5-5-6/dp/B07B45D8WV/ref=sr_1_1?dchild=1&keywords=sony+a7&qid=1597137716&sr=8-1'\n",
    "        \n",
    "    msg=f'Subject:{subject}\\n\\n{body}'\n",
    "    \n",
    "    server.sendmail(\n",
    "        'herruosm@gmail.com',\n",
    "        'herryjerry9495@gmail.com',\n",
    "        msg\n",
    "    \n",
    "    )\n",
    "    \n",
    "    print('hey email has been sent')\n",
    "    \n",
    "    server.quit()\n",
    "    \n",
    "check_price()"
   ]
  },
  {
   "cell_type": "markdown",
   "metadata": {},
   "source": [
    "# Class And Object"
   ]
  },
  {
   "cell_type": "code",
   "execution_count": 21,
   "metadata": {},
   "outputs": [
    {
     "name": "stdout",
     "output_type": "stream",
     "text": [
      "Hello my name is harsh\n"
     ]
    }
   ],
   "source": [
    "class Person:\n",
    "  def __init__(self, name, age):\n",
    "    self.name = name\n",
    "    self.age = age\n",
    "\n",
    "  def myfunc(self):\n",
    "    print(\"Hello my name is \" + self.name)\n",
    "\n",
    "p1 = Person(\"harsh\", 24)\n",
    "p1.myfunc()"
   ]
  }
 ],
 "metadata": {
  "kernelspec": {
   "display_name": "Python 3",
   "language": "python",
   "name": "python3"
  },
  "language_info": {
   "codemirror_mode": {
    "name": "ipython",
    "version": 3
   },
   "file_extension": ".py",
   "mimetype": "text/x-python",
   "name": "python",
   "nbconvert_exporter": "python",
   "pygments_lexer": "ipython3",
   "version": "3.7.7"
  }
 },
 "nbformat": 4,
 "nbformat_minor": 4
}

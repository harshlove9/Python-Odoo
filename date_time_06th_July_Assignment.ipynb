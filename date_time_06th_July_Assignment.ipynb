{
 "cells": [
  {
   "cell_type": "markdown",
   "metadata": {},
   "source": [
    "# Q:1. \n",
    "U1 = date\n",
    "o/p = convert in to date"
   ]
  },
  {
   "cell_type": "code",
   "execution_count": 4,
   "metadata": {},
   "outputs": [
    {
     "name": "stdout",
     "output_type": "stream",
     "text": [
      "Enter a year:2020\n",
      "Enter a month:7\n",
      "Enter a day:20\n",
      "2020-07-20 00:00:00\n"
     ]
    }
   ],
   "source": [
    "import datetime\n",
    "year = int(input('Enter a year:'))\n",
    "month = int(input('Enter a month:'))\n",
    "day = int(input('Enter a day:'))\n",
    "harsh = datetime.datetime(year, month, day)\n",
    "print(harsh)"
   ]
  },
  {
   "cell_type": "markdown",
   "metadata": {},
   "source": [
    "# Q2: \n",
    "u1 = date\n",
    "\n",
    "u2 = date\n",
    "\n",
    "o/p = days diff\n"
   ]
  },
  {
   "cell_type": "code",
   "execution_count": 3,
   "metadata": {},
   "outputs": [
    {
     "name": "stdout",
     "output_type": "stream",
     "text": [
      "Enter a year:2020\n",
      "Enter a month:4\n",
      "Enter a day:24\n",
      "enter first date: 2020-04-24\n",
      "Enter a year:2019\n",
      "Enter a month:7\n",
      "Enter a day:20\n",
      "enter second date: 2019-07-20\n",
      "days diff: 279 days, 0:00:00\n"
     ]
    }
   ],
   "source": [
    "from datetime import date\n",
    "import datetime\n",
    "a = int(input('Enter a year:'))\n",
    "b = int(input('Enter a month:'))\n",
    "c = int(input('Enter a day:'))\n",
    "harsh = datetime.date(a, b, c)\n",
    "print('enter first date:',harsh)\n",
    "\n",
    "d=int(input('Enter a year:'))\n",
    "e=int(input('Enter a month:'))\n",
    "f=int(input('Enter a day:'))\n",
    "harry = datetime.date(d, e, f)\n",
    "print('enter second date:',harry)\n",
    "\n",
    "final=harsh-harry\n",
    "print('days diff:',final)"
   ]
  },
  {
   "cell_type": "markdown",
   "metadata": {},
   "source": [
    "# NOT TASK BUT FOR ME:"
   ]
  },
  {
   "cell_type": "markdown",
   "metadata": {},
   "source": [
    "# Import the datetime module and display the current date:"
   ]
  },
  {
   "cell_type": "code",
   "execution_count": 5,
   "metadata": {},
   "outputs": [
    {
     "name": "stdout",
     "output_type": "stream",
     "text": [
      "2020-08-06 15:23:34.138026\n"
     ]
    }
   ],
   "source": [
    "import datetime\n",
    "\n",
    "x = datetime.datetime.now()\n",
    "print(x)\n"
   ]
  },
  {
   "cell_type": "markdown",
   "metadata": {},
   "source": [
    "# The date contains year, month, day, hour, minute, second, and microsecond."
   ]
  },
  {
   "cell_type": "markdown",
   "metadata": {},
   "source": [
    "# Return the year and name of weekday:"
   ]
  },
  {
   "cell_type": "code",
   "execution_count": 6,
   "metadata": {},
   "outputs": [
    {
     "name": "stdout",
     "output_type": "stream",
     "text": [
      "2020\n",
      "8\n",
      "Thursday\n"
     ]
    }
   ],
   "source": [
    "import datetime\n",
    "\n",
    "x = datetime.datetime.now()\n",
    "\n",
    "print(x.year)\n",
    "print(x.month)\n",
    "print(x.strftime(\"%A\"))"
   ]
  },
  {
   "cell_type": "markdown",
   "metadata": {},
   "source": [
    "# M.I.M.P\n",
    "\n",
    "The method is called strftime(), and takes one parameter, format, to specify the format of the returned string"
   ]
  },
  {
   "cell_type": "code",
   "execution_count": 7,
   "metadata": {},
   "outputs": [
    {
     "name": "stdout",
     "output_type": "stream",
     "text": [
      "2020-05-17 00:00:00\n"
     ]
    }
   ],
   "source": [
    "import datetime\n",
    "\n",
    "x = datetime.datetime(2020, 5, 17)\n",
    "\n",
    "print(x)"
   ]
  },
  {
   "cell_type": "code",
   "execution_count": 8,
   "metadata": {},
   "outputs": [
    {
     "name": "stdout",
     "output_type": "stream",
     "text": [
      "June\n"
     ]
    }
   ],
   "source": [
    "import datetime\n",
    "\n",
    "x = datetime.datetime(2018, 6, 1)\n",
    "\n",
    "print(x.strftime(\"%B\"))"
   ]
  }
 ],
 "metadata": {
  "kernelspec": {
   "display_name": "Python 3",
   "language": "python",
   "name": "python3"
  },
  "language_info": {
   "codemirror_mode": {
    "name": "ipython",
    "version": 3
   },
   "file_extension": ".py",
   "mimetype": "text/x-python",
   "name": "python",
   "nbconvert_exporter": "python",
   "pygments_lexer": "ipython3",
   "version": "3.7.7"
  }
 },
 "nbformat": 4,
 "nbformat_minor": 4
}
